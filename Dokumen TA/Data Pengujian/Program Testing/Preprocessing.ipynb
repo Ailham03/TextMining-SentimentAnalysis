{
 "cells": [
  {
   "cell_type": "code",
   "execution_count": 14,
   "metadata": {},
   "outputs": [],
   "source": [
    "import re\n",
    "import string"
   ]
  },
  {
   "cell_type": "code",
   "execution_count": 15,
   "metadata": {},
   "outputs": [
    {
     "name": "stdout",
     "output_type": "stream",
     "text": [
      "Jadwal Program \"BELAJAR DARI RUMAH\"  Hari Kamis, 31 Desember 2020 pukul 08.00-11.00 WIB\n",
      "\n",
      "#BelajarDariRumah\n",
      "#MediaPemersatuBangsa\n",
      "#TVRI @TVRINasional https://t.co/Jg7L7Kw9Bv\n"
     ]
    }
   ],
   "source": [
    "teks = 'Jadwal Program \"BELAJAR DARI RUMAH\"  Hari Kamis, 31 Desember 2020 pukul 08.00-11.00 WIB\\n\\n#BelajarDariRumah\\n#MediaPemersatuBangsa\\n#TVRI @TVRINasional https://t.co/Jg7L7Kw9Bv';\n",
    "print(teks)"
   ]
  },
  {
   "cell_type": "markdown",
   "metadata": {},
   "source": [
    "## Casefolding"
   ]
  },
  {
   "cell_type": "code",
   "execution_count": 17,
   "metadata": {},
   "outputs": [
    {
     "name": "stdout",
     "output_type": "stream",
     "text": [
      "jadwal program \"belajar dari rumah\"  hari kamis, 31 desember 2020 pukul 08.00-11.00 wib\n",
      "\n",
      "#belajardarirumah\n",
      "#mediapemersatubangsa\n",
      "#tvri @tvrinasional https://t.co/jg7l7kw9bv\n"
     ]
    }
   ],
   "source": [
    "# Case Folding : Mengubah huruf menjadi huruf kecil\n",
    "result_text = teks.lower()\n",
    "\n",
    "print(result_text)"
   ]
  },
  {
   "cell_type": "markdown",
   "metadata": {},
   "source": [
    "## Cleansing"
   ]
  },
  {
   "cell_type": "code",
   "execution_count": 19,
   "metadata": {},
   "outputs": [
    {
     "name": "stdout",
     "output_type": "stream",
     "text": [
      "jadwal program \"belajar dari rumah\"  hari kamis, 31 desember 2020 pukul 08.00-11.00 wib\n",
      "\n",
      "#belajardarirumah\n",
      "#mediapemersatubangsa\n",
      "#tvri @tvrinasional \n"
     ]
    }
   ],
   "source": [
    "# Remove URL: Menghilangkan kata yang diawali dengan 'http'\n",
    "result_text = re.sub(r'http\\S+', '', result_text)\n",
    "print(result_text)"
   ]
  },
  {
   "cell_type": "code",
   "execution_count": 21,
   "metadata": {},
   "outputs": [
    {
     "name": "stdout",
     "output_type": "stream",
     "text": [
      "jadwal program \"belajar dari rumah\"  hari kamis, 31 desember 2020 pukul 08.00-11.00 wib\n",
      "\n",
      "#belajardarirumah\n",
      "#mediapemersatubangsa\n",
      "#tvri  \n"
     ]
    }
   ],
   "source": [
    "# Remove Mention: Menghilangkan kata yang diawali dengan '@'\n",
    "result_text = re.sub(r'@\\S+', '', result_text)\n",
    "print(result_text)"
   ]
  },
  {
   "cell_type": "code",
   "execution_count": 23,
   "metadata": {},
   "outputs": [
    {
     "name": "stdout",
     "output_type": "stream",
     "text": [
      "jadwal program \"belajar dari rumah\"  hari kamis, 31 desember 2020 pukul 08.00-11.00 wib\n",
      "\n",
      "\n",
      "\n",
      "  \n"
     ]
    }
   ],
   "source": [
    "# Remove Hastag  : Menghilangkan kata yang diawali dengan '#'\n",
    "result_text = re.sub(r'#\\S+', '', result_text)\n",
    "print(result_text)"
   ]
  },
  {
   "cell_type": "code",
   "execution_count": 25,
   "metadata": {},
   "outputs": [
    {
     "name": "stdout",
     "output_type": "stream",
     "text": [
      "jadwal program \"belajar dari rumah\"  hari kamis,  desember  pukul .-. wib\n",
      "\n",
      "\n",
      "\n",
      "  \n"
     ]
    }
   ],
   "source": [
    "# Remove  Number : Menghilangkan angka[0-9]\n",
    "result_text = re.sub(r'\\d+', '', result_text)\n",
    "print(result_text)"
   ]
  },
  {
   "cell_type": "code",
   "execution_count": 27,
   "metadata": {},
   "outputs": [
    {
     "name": "stdout",
     "output_type": "stream",
     "text": [
      "jadwal program  belajar dari rumah   hari kamis   desember  pukul     wib\n",
      "\n",
      "\n",
      "\n",
      "  \n"
     ]
    }
   ],
   "source": [
    "# Remove Punctuation : Menghilangkan tanda baca kalimat\n",
    "result_text = result_text.translate(str.maketrans(string.punctuation, ' '*len(string.punctuation)))\n",
    "\n",
    "print(result_text)"
   ]
  },
  {
   "cell_type": "code",
   "execution_count": 28,
   "metadata": {},
   "outputs": [
    {
     "name": "stdout",
     "output_type": "stream",
     "text": [
      "jadwal program belajar dari rumah hari kamis desember pukul wib\n"
     ]
    }
   ],
   "source": [
    "# Remove Whitespace : Menghilangkan spasi/tab/baris yang kosong\n",
    "result_text = result_text.strip()\n",
    "result_text = re.sub('\\s+', ' ', result_text)\n",
    "\n",
    "print(result_text)"
   ]
  },
  {
   "cell_type": "markdown",
   "metadata": {},
   "source": [
    "## Slangword"
   ]
  },
  {
   "cell_type": "code",
   "execution_count": null,
   "metadata": {},
   "outputs": [],
   "source": []
  },
  {
   "cell_type": "markdown",
   "metadata": {},
   "source": [
    "## Stopword"
   ]
  },
  {
   "cell_type": "code",
   "execution_count": null,
   "metadata": {},
   "outputs": [],
   "source": []
  },
  {
   "cell_type": "markdown",
   "metadata": {},
   "source": [
    "## Stemming"
   ]
  },
  {
   "cell_type": "code",
   "execution_count": null,
   "metadata": {},
   "outputs": [],
   "source": []
  }
 ],
 "metadata": {
  "kernelspec": {
   "display_name": "Python 3",
   "language": "python",
   "name": "python3"
  },
  "language_info": {
   "codemirror_mode": {
    "name": "ipython",
    "version": 3
   },
   "file_extension": ".py",
   "mimetype": "text/x-python",
   "name": "python",
   "nbconvert_exporter": "python",
   "pygments_lexer": "ipython3",
   "version": "3.6.11"
  }
 },
 "nbformat": 4,
 "nbformat_minor": 4
}
