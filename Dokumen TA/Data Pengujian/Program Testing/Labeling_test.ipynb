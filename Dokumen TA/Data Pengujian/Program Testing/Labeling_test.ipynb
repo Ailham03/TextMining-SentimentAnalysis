{
 "cells": [
  {
   "cell_type": "markdown",
   "metadata": {},
   "source": [
    "# Labeling Kamus"
   ]
  },
  {
   "cell_type": "code",
   "execution_count": null,
   "metadata": {},
   "outputs": [],
   "source": [
    "dokumen = [\n",
    "    'belajar di rumah sangat menyenangkan',  # kalimat ke-1\n",
    "    'bingung belajar sendiri rumah',         # kalimat ke-2\n",
    "]"
   ]
  },
  {
   "cell_type": "code",
   "execution_count": null,
   "metadata": {},
   "outputs": [],
   "source": [
    "sampel_kamusPositif = ['belajar', 'menyenangkan', 'baik', 'adil']\n",
    "sampel_kamusNegatif = ['bosan', 'bingung', 'bimbang', 'sendiri']"
   ]
  },
  {
   "cell_type": "markdown",
   "metadata": {},
   "source": [
    "### Skor = (∑kata positif) - (∑kata negatif)  "
   ]
  },
  {
   "cell_type": "code",
   "execution_count": null,
   "metadata": {},
   "outputs": [],
   "source": [
    "# ekstrak dokumen menjadi per kalimat\n",
    "for index, kalimat in enumerate(dokumen):\n",
    "    skor = 0 # nilai kor untuk setiap kalimat\n",
    "    \n",
    "    skor_positif = 0 # nilai skor untuk menampung jumlah kata positif\n",
    "    # memecah kalimat menjadi per kata\n",
    "    for kata in kalimat.split():\n",
    "        if kata in sampel_kamusPositif:\n",
    "            skor_positif += 1\n",
    "\n",
    "    skor_negatif = 0 # nilai skor untuk menampung jumlah kata negatif\n",
    "    # memecah kalimat menjadi per kata\n",
    "    for kata in kalimat.split():\n",
    "        if kata in sampel_kamusNegatif:\n",
    "            skor_negatif += 1\n",
    "\n",
    "    skor = skor_positif - skor_negatif\n",
    "    \n",
    "    print('\\nSkor = (∑kata positif) - (∑kata negatif)')\n",
    "    print('Skor = '+ str(skor_positif) +' - '+ str(skor_negatif))\n",
    "    print('Skor = '+ str(skor))\n",
    "    \n",
    "    sentimen = ''\n",
    "    if skor > 0:\n",
    "        sentimen = 'positif'\n",
    "    elif skor < 0:\n",
    "        sentimen = 'negatif'\n",
    "    else:\n",
    "        continue # sentimen netral\n",
    "    \n",
    "    print('\\nSkor kalimat \"'+ dokumen[index] +'\" adalah '+ str(skor))\n",
    "    print('Hasil sentimenya adalah '+ sentimen)\n",
    "    print('\\n---------------------------------')"
   ]
  },
  {
   "cell_type": "markdown",
   "metadata": {},
   "source": [
    "## Program nyata"
   ]
  },
  {
   "cell_type": "code",
   "execution_count": null,
   "metadata": {},
   "outputs": [],
   "source": [
    "for index, kalimat in enumerate(dokumen):\n",
    "    skor = 0\n",
    "    for kata in kalimat.split():\n",
    "        if kata in sampel_kamusPositif:\n",
    "            skor += 1\n",
    "        if kata in sampel_kamusNegatif:\n",
    "            skor -= 1\n",
    "    \n",
    "    sentimen = ''\n",
    "    if skor > 0:\n",
    "        sentimen = 'positif'\n",
    "    elif skor < 0:\n",
    "        sentimen = 'negatif'\n",
    "    else:\n",
    "        continue # sentimen netral\n",
    "    \n",
    "    print('\\nSkor kalimat \"'+ dokumen[index] +'\" adalah '+ str(skor))\n",
    "    print('Hasil sentimenya adalah '+ sentimen)"
   ]
  }
 ],
 "metadata": {
  "kernelspec": {
   "display_name": "Python 3",
   "language": "python",
   "name": "python3"
  },
  "language_info": {
   "codemirror_mode": {
    "name": "ipython",
    "version": 3
   },
   "file_extension": ".py",
   "mimetype": "text/x-python",
   "name": "python",
   "nbconvert_exporter": "python",
   "pygments_lexer": "ipython3",
   "version": "3.6.11"
  }
 },
 "nbformat": 4,
 "nbformat_minor": 4
}
