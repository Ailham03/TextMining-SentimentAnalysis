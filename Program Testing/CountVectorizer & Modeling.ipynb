{
 "cells": [
  {
   "cell_type": "markdown",
   "metadata": {},
   "source": [
    "## CountVectorizer"
   ]
  },
  {
   "cell_type": "code",
   "execution_count": 214,
   "metadata": {},
   "outputs": [],
   "source": [
    "import pandas"
   ]
  },
  {
   "cell_type": "code",
   "execution_count": 215,
   "metadata": {},
   "outputs": [],
   "source": [
    "text_list = [\n",
    "    'belajar di rumah sangat menyenangkan',   # index 0: kalimat ke-1 -- positif -- data latih\n",
    "    'belajar dan belajar di rumah',           # index 1: kalimat ke-2 -- positif -- data latih\n",
    "    'bosan belajar dari rumah',               # index 2: kalimat ke-3 -- negatif -- data latih\n",
    "    'bingung belajar sendiri rumah',          # index 3: kalimat ke-4 -- negatif -- data latih\n",
    "    'belajar sendiri lagi sendiri lagi',      # index 4: kalimat ke-5 --    ?    -- data uji\n",
    "]\n",
    "kelas_teks = ['positif', 'positif', 'negatif' , 'negatif', '?']"
   ]
  },
  {
   "cell_type": "code",
   "execution_count": 216,
   "metadata": {},
   "outputs": [
    {
     "name": "stdout",
     "output_type": "stream",
     "text": [
      "['belajar', 'di', 'rumah', 'sangat', 'menyenangkan', 'belajar', 'dan', 'belajar', 'di', 'rumah', 'bosan', 'belajar', 'dari', 'rumah', 'bingung', 'belajar', 'sendiri', 'rumah', 'belajar', 'sendiri', 'lagi', 'sendiri', 'lagi']\n"
     ]
    }
   ],
   "source": [
    "text_word = []\n",
    "for text in text_list:\n",
    "    for word in text.split():\n",
    "        text_word.append(word)\n",
    "    \n",
    "print(text_word)"
   ]
  },
  {
   "cell_type": "code",
   "execution_count": 217,
   "metadata": {},
   "outputs": [
    {
     "name": "stdout",
     "output_type": "stream",
     "text": [
      "['belajar', 'di', 'rumah', 'sangat', 'menyenangkan', 'dan', 'bosan', 'dari', 'bingung', 'sendiri', 'lagi']\n"
     ]
    }
   ],
   "source": [
    "# Mencari kata unik (fitur)\n",
    "def get_uniqueWords(text_word) :\n",
    "    unique_words = [] \n",
    "    for word in text_word:\n",
    "        if not word in unique_words:\n",
    "            unique_words.append(word)\n",
    "    return unique_words\n",
    "\n",
    "unique_words = get_uniqueWords(text_word)\n",
    "print(unique_words)"
   ]
  },
  {
   "cell_type": "code",
   "execution_count": 218,
   "metadata": {},
   "outputs": [
    {
     "data": {
      "text/plain": [
       "[[0, 0, 0, 0, 0, 0, 0, 0, 0, 0, 0],\n",
       " [0, 0, 0, 0, 0, 0, 0, 0, 0, 0, 0],\n",
       " [0, 0, 0, 0, 0, 0, 0, 0, 0, 0, 0],\n",
       " [0, 0, 0, 0, 0, 0, 0, 0, 0, 0, 0],\n",
       " [0, 0, 0, 0, 0, 0, 0, 0, 0, 0, 0]]"
      ]
     },
     "execution_count": 218,
     "metadata": {},
     "output_type": "execute_result"
    }
   ],
   "source": [
    "# membuat vektor 0 dengan panjang = len(unique_words) & lebar = len(text_list)\n",
    "def create_zeroVector():\n",
    "    vector_list = [[0 for i in range(len(unique_words))] for j in range(len(text_list))]\n",
    "    return vector_list\n",
    "\n",
    "vector_list = create_zeroVector()\n",
    "vector_list"
   ]
  },
  {
   "cell_type": "code",
   "execution_count": 219,
   "metadata": {},
   "outputs": [
    {
     "data": {
      "text/plain": [
       "[[1, 1, 1, 1, 1, 0, 0, 0, 0, 0, 0],\n",
       " [2, 1, 1, 0, 0, 1, 0, 0, 0, 0, 0],\n",
       " [1, 0, 1, 0, 0, 0, 1, 1, 0, 0, 0],\n",
       " [1, 0, 1, 0, 0, 0, 0, 0, 1, 1, 0],\n",
       " [1, 0, 0, 0, 0, 0, 0, 0, 0, 2, 2]]"
      ]
     },
     "execution_count": 219,
     "metadata": {},
     "output_type": "execute_result"
    }
   ],
   "source": [
    "# Membuat list vector\n",
    "def create_vectorList(text_list):\n",
    "    for i, text in enumerate(text_list):\n",
    "        for word in text.split():\n",
    "            for j, unique in enumerate(unique_words):\n",
    "                if word == unique:\n",
    "                    vector_list[i][j] += 1\n",
    "    return vector_list\n",
    "\n",
    "vector_list = create_vectorList(text_list)\n",
    "vector_list"
   ]
  },
  {
   "cell_type": "code",
   "execution_count": 332,
   "metadata": {},
   "outputs": [
    {
     "data": {
      "text/html": [
       "<div>\n",
       "<style scoped>\n",
       "    .dataframe tbody tr th:only-of-type {\n",
       "        vertical-align: middle;\n",
       "    }\n",
       "\n",
       "    .dataframe tbody tr th {\n",
       "        vertical-align: top;\n",
       "    }\n",
       "\n",
       "    .dataframe thead th {\n",
       "        text-align: right;\n",
       "    }\n",
       "</style>\n",
       "<table border=\"1\" class=\"dataframe\">\n",
       "  <thead>\n",
       "    <tr style=\"text-align: right;\">\n",
       "      <th></th>\n",
       "      <th>belajar</th>\n",
       "      <th>di</th>\n",
       "      <th>rumah</th>\n",
       "      <th>sangat</th>\n",
       "      <th>menyenangkan</th>\n",
       "      <th>dan</th>\n",
       "      <th>bosan</th>\n",
       "      <th>dari</th>\n",
       "      <th>bingung</th>\n",
       "      <th>sendiri</th>\n",
       "      <th>lagi</th>\n",
       "      <th>LABEL</th>\n",
       "    </tr>\n",
       "  </thead>\n",
       "  <tbody>\n",
       "    <tr>\n",
       "      <th>kalimat ke-1</th>\n",
       "      <td>1</td>\n",
       "      <td>1</td>\n",
       "      <td>1</td>\n",
       "      <td>1</td>\n",
       "      <td>1</td>\n",
       "      <td>0</td>\n",
       "      <td>0</td>\n",
       "      <td>0</td>\n",
       "      <td>0</td>\n",
       "      <td>0</td>\n",
       "      <td>0</td>\n",
       "      <td>positif</td>\n",
       "    </tr>\n",
       "    <tr>\n",
       "      <th>kalimat ke-2</th>\n",
       "      <td>2</td>\n",
       "      <td>1</td>\n",
       "      <td>1</td>\n",
       "      <td>0</td>\n",
       "      <td>0</td>\n",
       "      <td>1</td>\n",
       "      <td>0</td>\n",
       "      <td>0</td>\n",
       "      <td>0</td>\n",
       "      <td>0</td>\n",
       "      <td>0</td>\n",
       "      <td>positif</td>\n",
       "    </tr>\n",
       "    <tr>\n",
       "      <th>kalimat ke-3</th>\n",
       "      <td>1</td>\n",
       "      <td>0</td>\n",
       "      <td>1</td>\n",
       "      <td>0</td>\n",
       "      <td>0</td>\n",
       "      <td>0</td>\n",
       "      <td>1</td>\n",
       "      <td>1</td>\n",
       "      <td>0</td>\n",
       "      <td>0</td>\n",
       "      <td>0</td>\n",
       "      <td>negatif</td>\n",
       "    </tr>\n",
       "    <tr>\n",
       "      <th>kalimat ke-4</th>\n",
       "      <td>1</td>\n",
       "      <td>0</td>\n",
       "      <td>1</td>\n",
       "      <td>0</td>\n",
       "      <td>0</td>\n",
       "      <td>0</td>\n",
       "      <td>0</td>\n",
       "      <td>0</td>\n",
       "      <td>1</td>\n",
       "      <td>1</td>\n",
       "      <td>0</td>\n",
       "      <td>negatif</td>\n",
       "    </tr>\n",
       "    <tr>\n",
       "      <th>kalimat ke-5</th>\n",
       "      <td>1</td>\n",
       "      <td>0</td>\n",
       "      <td>0</td>\n",
       "      <td>0</td>\n",
       "      <td>0</td>\n",
       "      <td>0</td>\n",
       "      <td>0</td>\n",
       "      <td>0</td>\n",
       "      <td>0</td>\n",
       "      <td>2</td>\n",
       "      <td>2</td>\n",
       "      <td>?</td>\n",
       "    </tr>\n",
       "  </tbody>\n",
       "</table>\n",
       "</div>"
      ],
      "text/plain": [
       "              belajar  di  rumah  sangat  menyenangkan  dan  bosan  dari  \\\n",
       "kalimat ke-1        1   1      1       1             1    0      0     0   \n",
       "kalimat ke-2        2   1      1       0             0    1      0     0   \n",
       "kalimat ke-3        1   0      1       0             0    0      1     1   \n",
       "kalimat ke-4        1   0      1       0             0    0      0     0   \n",
       "kalimat ke-5        1   0      0       0             0    0      0     0   \n",
       "\n",
       "              bingung  sendiri  lagi    LABEL  \n",
       "kalimat ke-1        0        0     0  positif  \n",
       "kalimat ke-2        0        0     0  positif  \n",
       "kalimat ke-3        0        0     0  negatif  \n",
       "kalimat ke-4        1        1     0  negatif  \n",
       "kalimat ke-5        0        2     2        ?  "
      ]
     },
     "execution_count": 332,
     "metadata": {},
     "output_type": "execute_result"
    }
   ],
   "source": [
    "data_frame = pandas.DataFrame(vector_list, columns=unique_words, index=['kalimat ke-1','kalimat ke-2','kalimat ke-3','kalimat ke-4','kalimat ke-5'])\n",
    "data_frame['LABEL'] = kelas_teks\n",
    "\n",
    "data_frame"
   ]
  },
  {
   "cell_type": "markdown",
   "metadata": {},
   "source": [
    "## KNN"
   ]
  },
  {
   "cell_type": "code",
   "execution_count": 333,
   "metadata": {},
   "outputs": [
    {
     "data": {
      "text/plain": [
       "[[1, 1, 1, 1, 1, 0, 0, 0, 0, 0, 0],\n",
       " [2, 1, 1, 0, 0, 1, 0, 0, 0, 0, 0],\n",
       " [1, 0, 1, 0, 0, 0, 1, 1, 0, 0, 0],\n",
       " [1, 0, 1, 0, 0, 0, 0, 0, 1, 1, 0]]"
      ]
     },
     "execution_count": 333,
     "metadata": {},
     "output_type": "execute_result"
    }
   ],
   "source": [
    "data_latih = vector_list[:4]\n",
    "data_latih"
   ]
  },
  {
   "cell_type": "code",
   "execution_count": 334,
   "metadata": {},
   "outputs": [
    {
     "data": {
      "text/plain": [
       "[1, 0, 0, 0, 0, 0, 0, 0, 0, 2, 2]"
      ]
     },
     "execution_count": 334,
     "metadata": {},
     "output_type": "execute_result"
    }
   ],
   "source": [
    "data_tes = vector_list[4]\n",
    "data_tes"
   ]
  },
  {
   "cell_type": "markdown",
   "metadata": {},
   "source": [
    "### Euclidean distance = sqrt(sum((x - y)^2))"
   ]
  },
  {
   "cell_type": "code",
   "execution_count": 335,
   "metadata": {},
   "outputs": [],
   "source": [
    "from math import sqrt"
   ]
  },
  {
   "cell_type": "code",
   "execution_count": 336,
   "metadata": {},
   "outputs": [
    {
     "data": {
      "text/plain": [
       "{0: 3.4641016151377544,\n",
       " 1: 3.4641016151377544,\n",
       " 2: 3.3166247903554,\n",
       " 3: 2.6457513110645907}"
      ]
     },
     "execution_count": 336,
     "metadata": {},
     "output_type": "execute_result"
    }
   ],
   "source": [
    "# wadah untuk tetangga-tetangga\n",
    "neighbors = {}\n",
    "\n",
    "for i in range(len(data_latih)):\n",
    "    total = 0\n",
    "    for j in range(len(data_tes)):\n",
    "        total += pow((data_tes[j]-data_latih[i][j]), 2)\n",
    "    neighbors[i] = sqrt(total)\n",
    "\n",
    "neighbors"
   ]
  },
  {
   "cell_type": "code",
   "execution_count": 337,
   "metadata": {},
   "outputs": [],
   "source": [
    "import itertools"
   ]
  },
  {
   "cell_type": "code",
   "execution_count": 341,
   "metadata": {},
   "outputs": [
    {
     "data": {
      "text/plain": [
       "{3: 2.6457513110645907, 2: 3.3166247903554, 0: 3.4641016151377544}"
      ]
     },
     "execution_count": 341,
     "metadata": {},
     "output_type": "execute_result"
    }
   ],
   "source": [
    "K = 3\n",
    "\n",
    "# mencari K tetangga terdekat\n",
    "def get_nearestNeighbors(neighbors):\n",
    "    neighbors_sortASC = dict(sorted(neighbors.items(), key=lambda item: item[1]))\n",
    "    nearest_neighbors = dict(itertools.islice(neighbors_sortASC.items(), K))\n",
    "    return nearest_neighbors\n",
    "\n",
    "nearest_neighbors = get_nearestNeighbors(neighbors)\n",
    "nearest_neighbors"
   ]
  },
  {
   "cell_type": "code",
   "execution_count": 345,
   "metadata": {},
   "outputs": [
    {
     "data": {
      "text/plain": [
       "['negatif', 'negatif', 'positif']"
      ]
     },
     "execution_count": 345,
     "metadata": {},
     "output_type": "execute_result"
    }
   ],
   "source": [
    "index_nearestNeighbors = list(nearest_neighbors)\n",
    "\n",
    "sentiment_nearestNeighbors = []\n",
    "for index in index_nearestNeighbors:\n",
    "    sentiment_nearestNeighbors.append(kelas_teks[index])\n",
    "    \n",
    "sentiment_nearestNeighbors"
   ]
  },
  {
   "cell_type": "code",
   "execution_count": 351,
   "metadata": {},
   "outputs": [
    {
     "data": {
      "text/plain": [
       "(0.3333333333333333, 0.6666666666666666)"
      ]
     },
     "execution_count": 351,
     "metadata": {},
     "output_type": "execute_result"
    }
   ],
   "source": [
    "count_positif = 0\n",
    "count_negatif = 0\n",
    "for sentiment in sentiment_nearestNeighbors:\n",
    "    if sentiment == 'positif':\n",
    "        count_positif += 1\n",
    "    else:\n",
    "        count_negatif +=1\n",
    "\n",
    "probabilitas_positif = count_positif / len(sentiment_nearestNeighbors)\n",
    "probabilitas_negatif = count_negatif / len(sentiment_nearestNeighbors)\n",
    "\n",
    "probabilitas_positif, probabilitas_negatif"
   ]
  },
  {
   "cell_type": "code",
   "execution_count": 352,
   "metadata": {},
   "outputs": [
    {
     "data": {
      "text/plain": [
       "'negatif'"
      ]
     },
     "execution_count": 352,
     "metadata": {},
     "output_type": "execute_result"
    }
   ],
   "source": [
    "sentiment = ''\n",
    "if probabilitas_positif > probabilitas_negatif:\n",
    "    sentiment = 'positif'\n",
    "else:\n",
    "    sentiment = 'negatif'\n",
    "    \n",
    "sentiment"
   ]
  },
  {
   "cell_type": "code",
   "execution_count": 357,
   "metadata": {},
   "outputs": [
    {
     "data": {
      "text/html": [
       "<div>\n",
       "<style scoped>\n",
       "    .dataframe tbody tr th:only-of-type {\n",
       "        vertical-align: middle;\n",
       "    }\n",
       "\n",
       "    .dataframe tbody tr th {\n",
       "        vertical-align: top;\n",
       "    }\n",
       "\n",
       "    .dataframe thead th {\n",
       "        text-align: right;\n",
       "    }\n",
       "</style>\n",
       "<table border=\"1\" class=\"dataframe\">\n",
       "  <thead>\n",
       "    <tr style=\"text-align: right;\">\n",
       "      <th></th>\n",
       "      <th>dokumen</th>\n",
       "      <th>LABEL</th>\n",
       "    </tr>\n",
       "  </thead>\n",
       "  <tbody>\n",
       "    <tr>\n",
       "      <th>kalimat ke-1</th>\n",
       "      <td>belajar di rumah sangat menyenangkan</td>\n",
       "      <td>positif</td>\n",
       "    </tr>\n",
       "    <tr>\n",
       "      <th>kalimat ke-2</th>\n",
       "      <td>belajar dan belajar di rumah</td>\n",
       "      <td>positif</td>\n",
       "    </tr>\n",
       "    <tr>\n",
       "      <th>kalimat ke-3</th>\n",
       "      <td>bosan belajar dari rumah</td>\n",
       "      <td>negatif</td>\n",
       "    </tr>\n",
       "    <tr>\n",
       "      <th>kalimat ke-4</th>\n",
       "      <td>bingung belajar sendiri rumah</td>\n",
       "      <td>negatif</td>\n",
       "    </tr>\n",
       "    <tr>\n",
       "      <th>kalimat ke-5</th>\n",
       "      <td>belajar sendiri lagi sendiri lagi</td>\n",
       "      <td>[negatif]</td>\n",
       "    </tr>\n",
       "  </tbody>\n",
       "</table>\n",
       "</div>"
      ],
      "text/plain": [
       "                                           dokumen      LABEL\n",
       "kalimat ke-1  belajar di rumah sangat menyenangkan    positif\n",
       "kalimat ke-2          belajar dan belajar di rumah    positif\n",
       "kalimat ke-3              bosan belajar dari rumah    negatif\n",
       "kalimat ke-4         bingung belajar sendiri rumah    negatif\n",
       "kalimat ke-5     belajar sendiri lagi sendiri lagi  [negatif]"
      ]
     },
     "execution_count": 357,
     "metadata": {},
     "output_type": "execute_result"
    }
   ],
   "source": [
    "data_frame = pandas.DataFrame(text_list, columns=['dokumen'], index=['kalimat ke-1','kalimat ke-2','kalimat ke-3','kalimat ke-4','kalimat ke-5'])\n",
    "data_frame['LABEL'] = kelas_teks\n",
    "data_frame['LABEL'][4] = [sentiment]\n",
    "\n",
    "data_frame"
   ]
  },
  {
   "cell_type": "code",
   "execution_count": null,
   "metadata": {},
   "outputs": [],
   "source": []
  }
 ],
 "metadata": {
  "kernelspec": {
   "display_name": "Python 3",
   "language": "python",
   "name": "python3"
  },
  "language_info": {
   "codemirror_mode": {
    "name": "ipython",
    "version": 3
   },
   "file_extension": ".py",
   "mimetype": "text/x-python",
   "name": "python",
   "nbconvert_exporter": "python",
   "pygments_lexer": "ipython3",
   "version": "3.6.10"
  }
 },
 "nbformat": 4,
 "nbformat_minor": 2
}
