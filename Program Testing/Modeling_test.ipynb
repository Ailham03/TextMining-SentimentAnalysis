{
 "cells": [
  {
   "cell_type": "markdown",
   "metadata": {},
   "source": [
    "# CountVectorizer"
   ]
  },
  {
   "cell_type": "code",
   "execution_count": null,
   "metadata": {},
   "outputs": [],
   "source": [
    "from sklearn.feature_extraction.text import CountVectorizer\n",
    "import pandas"
   ]
  },
  {
   "cell_type": "code",
   "execution_count": null,
   "metadata": {},
   "outputs": [],
   "source": [
    "dokumen = [\n",
    "    'belajar di rumah sangat menyenangkan',   # index 0: kalimat ke-1 -- positif -- data latih\n",
    "    'belajar dan belajar di rumah',           # index 1: kalimat ke-2 -- positif -- data latih\n",
    "    'bosan belajar dari rumah',               # index 2: kalimat ke-3 -- negatif -- data latih\n",
    "    'bingung belajar sendiri rumah',          # index 3: kalimat ke-4 -- negatif -- data latih\n",
    "    'belajar sendiri lagi, sendiri lagi',     # index 4: kalimat ke-5 --    ?    -- data uji\n",
    "]\n",
    "kelas_dokumen = ['positif', 'positif', 'negatif' , 'negatif', '?']"
   ]
  },
  {
   "cell_type": "code",
   "execution_count": null,
   "metadata": {},
   "outputs": [],
   "source": [
    "vectorizer = CountVectorizer()\n",
    "hasil_vect = vectorizer.fit_transform(dokumen)"
   ]
  },
  {
   "cell_type": "code",
   "execution_count": null,
   "metadata": {},
   "outputs": [],
   "source": [
    "print(vectorizer.get_feature_names())"
   ]
  },
  {
   "cell_type": "code",
   "execution_count": null,
   "metadata": {
    "scrolled": true
   },
   "outputs": [],
   "source": [
    "data_frame = pandas.DataFrame(hasil_vect.toarray(), columns=vectorizer.get_feature_names(), index=['kalimat ke-1','kalimat ke-2','kalimat ke-3','kalimat ke-4','kalimat ke-5'])\n",
    "data_frame['LABEL'] = kelas_dokumen\n",
    "\n",
    "data_frame"
   ]
  },
  {
   "cell_type": "markdown",
   "metadata": {},
   "source": [
    "# K-Nearest Neighbors"
   ]
  },
  {
   "cell_type": "code",
   "execution_count": null,
   "metadata": {},
   "outputs": [],
   "source": [
    "from sklearn.neighbors import KNeighborsClassifier"
   ]
  },
  {
   "cell_type": "code",
   "execution_count": null,
   "metadata": {},
   "outputs": [],
   "source": [
    "hasil_vect.toarray()"
   ]
  },
  {
   "cell_type": "code",
   "execution_count": null,
   "metadata": {},
   "outputs": [],
   "source": [
    "klasifikasi = KNeighborsClassifier(n_neighbors=3, algorithm='brute', metric='euclidean')"
   ]
  },
  {
   "cell_type": "code",
   "execution_count": null,
   "metadata": {},
   "outputs": [],
   "source": [
    "klasifikasi.fit(hasil_vect[:4], kelas_dokumen[:4])"
   ]
  },
  {
   "cell_type": "code",
   "execution_count": null,
   "metadata": {},
   "outputs": [],
   "source": [
    "index_data_uji = 4"
   ]
  },
  {
   "cell_type": "code",
   "execution_count": null,
   "metadata": {},
   "outputs": [],
   "source": [
    "jarak, index = klasifikasi.kneighbors(hasil_vect[index_data_uji])\n",
    "\n",
    "kolom = []\n",
    "for i in range(len(index[0])):\n",
    "    for j in range(hasil_vect.shape[0]):\n",
    "        if index[0][i] == j:\n",
    "            kolom.append('kalimat ke-'+ str(j))\n",
    "\n",
    "data_frameKlasifikasi = pandas.DataFrame(jarak, columns=kolom, index=['kalimat ke-'+ str(index_data_uji)])\n",
    "data_frameKlasifikasi"
   ]
  },
  {
   "cell_type": "code",
   "execution_count": null,
   "metadata": {},
   "outputs": [],
   "source": [
    "label = []\n",
    "for i in range(len(index[0])):\n",
    "    for j in range(hasil_vect.shape[0]):\n",
    "        if index[0][i] == j:\n",
    "            label.append(kelas_dokumen[j])\n",
    "            \n",
    "data_frameLabel = pandas.DataFrame([label], columns=kolom, index=[' '])\n",
    "data_frameLabel"
   ]
  },
  {
   "cell_type": "code",
   "execution_count": null,
   "metadata": {},
   "outputs": [],
   "source": [
    "klasifikasi.predict_proba(hasil_vect[index_data_uji])"
   ]
  },
  {
   "cell_type": "code",
   "execution_count": null,
   "metadata": {},
   "outputs": [],
   "source": [
    "print(klasifikasi.predict(hasil_vect[index_data_uji]))"
   ]
  },
  {
   "cell_type": "code",
   "execution_count": null,
   "metadata": {},
   "outputs": [],
   "source": [
    "data_frame = pandas.DataFrame(dokumen, columns=['dokumen'], index=['kalimat ke-1','kalimat ke-2','kalimat ke-3','kalimat ke-4','kalimat ke-5'])\n",
    "data_frame['LABEL'] = kelas_dokumen\n",
    "data_frame['LABEL'][index_data_uji] = klasifikasi.predict(hasil_vect[index_data_uji])\n",
    "\n",
    "data_frame"
   ]
  },
  {
   "cell_type": "code",
   "execution_count": null,
   "metadata": {},
   "outputs": [],
   "source": []
  }
 ],
 "metadata": {
  "kernelspec": {
   "display_name": "Python 3",
   "language": "python",
   "name": "python3"
  },
  "language_info": {
   "codemirror_mode": {
    "name": "ipython",
    "version": 3
   },
   "file_extension": ".py",
   "mimetype": "text/x-python",
   "name": "python",
   "nbconvert_exporter": "python",
   "pygments_lexer": "ipython3",
   "version": "3.6.11"
  }
 },
 "nbformat": 4,
 "nbformat_minor": 4
}
