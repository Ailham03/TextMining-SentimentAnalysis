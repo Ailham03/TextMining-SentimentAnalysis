{
 "cells": [
  {
   "cell_type": "markdown",
   "metadata": {},
   "source": [
    "# Modeling (CountVectorizer)"
   ]
  },
  {
   "cell_type": "code",
   "execution_count": 1,
   "metadata": {},
   "outputs": [],
   "source": [
    "import pandas"
   ]
  },
  {
   "cell_type": "code",
   "execution_count": 2,
   "metadata": {},
   "outputs": [],
   "source": [
    "text_list = [\n",
    "    'ajar efektif kelas pintar semangat gratis',                                      # kalimat 1\n",
    "    'pagi tetap semangat ajar aktivitas rabu pintar ayo simak jadwal acara',          # kalimat 2\n",
    "    'susah sulit kerja tugas bingung tanya tanya kelas pintar akibat covid',          # kalimat 3\n",
    "    'pagi susah kerja lama lama ajar jarak jauh penuh drama'                          # kalimat 4\n",
    "]\n",
    "kelas_teks = ['positif', 'positif', 'negatif' , 'negatif']"
   ]
  },
  {
   "cell_type": "markdown",
   "metadata": {},
   "source": [
    "### Pembuatan list kata"
   ]
  },
  {
   "cell_type": "code",
   "execution_count": 3,
   "metadata": {},
   "outputs": [
    {
     "name": "stdout",
     "output_type": "stream",
     "text": [
      "['ajar', 'efektif', 'kelas', 'pintar', 'semangat', 'gratis', 'pagi', 'tetap', 'semangat', 'ajar', 'aktivitas', 'rabu', 'pintar', 'ayo', 'simak', 'jadwal', 'acara', 'susah', 'sulit', 'kerja', 'tugas', 'bingung', 'tanya', 'tanya', 'kelas', 'pintar', 'akibat', 'covid', 'pagi', 'susah', 'kerja', 'lama', 'lama', 'ajar', 'jarak', 'jauh', 'penuh', 'drama']\n"
     ]
    }
   ],
   "source": [
    "text_word = []\n",
    "for text in text_list:\n",
    "    for word in text.split():\n",
    "        text_word.append(word)\n",
    "    \n",
    "print(text_word)"
   ]
  },
  {
   "cell_type": "markdown",
   "metadata": {},
   "source": [
    "### Pembuatan fitur kata"
   ]
  },
  {
   "cell_type": "code",
   "execution_count": 4,
   "metadata": {},
   "outputs": [
    {
     "name": "stdout",
     "output_type": "stream",
     "text": [
      "['ajar', 'efektif', 'kelas', 'pintar', 'semangat', 'gratis', 'pagi', 'tetap', 'aktivitas', 'rabu', 'ayo', 'simak', 'jadwal', 'acara', 'susah', 'sulit', 'kerja', 'tugas', 'bingung', 'tanya', 'akibat', 'covid', 'lama', 'jarak', 'jauh', 'penuh', 'drama']\n"
     ]
    }
   ],
   "source": [
    "# Mencari kata unik (fitur)\n",
    "def get_uniqueWords(text_word) :\n",
    "    unique_words = [] \n",
    "    for word in text_word:\n",
    "        if not word in unique_words:\n",
    "            unique_words.append(word)\n",
    "    return unique_words\n",
    "\n",
    "unique_words = get_uniqueWords(text_word)\n",
    "print(unique_words)"
   ]
  },
  {
   "cell_type": "markdown",
   "metadata": {},
   "source": [
    "### Pembuatan wadah vektor kosong"
   ]
  },
  {
   "cell_type": "code",
   "execution_count": 5,
   "metadata": {},
   "outputs": [
    {
     "name": "stdout",
     "output_type": "stream",
     "text": [
      "[[0, 0, 0, 0, 0, 0, 0, 0, 0, 0, 0, 0, 0, 0, 0, 0, 0, 0, 0, 0, 0, 0, 0, 0, 0, 0, 0], [0, 0, 0, 0, 0, 0, 0, 0, 0, 0, 0, 0, 0, 0, 0, 0, 0, 0, 0, 0, 0, 0, 0, 0, 0, 0, 0], [0, 0, 0, 0, 0, 0, 0, 0, 0, 0, 0, 0, 0, 0, 0, 0, 0, 0, 0, 0, 0, 0, 0, 0, 0, 0, 0], [0, 0, 0, 0, 0, 0, 0, 0, 0, 0, 0, 0, 0, 0, 0, 0, 0, 0, 0, 0, 0, 0, 0, 0, 0, 0, 0]]\n"
     ]
    }
   ],
   "source": [
    "# membuat vektor 0 dengan panjang = len(unique_words) & lebar = len(text_list)\n",
    "def create_zeroVector():\n",
    "    vector_list = [[0 for i in range(len(unique_words))] for j in range(len(text_list))]\n",
    "    return vector_list\n",
    "\n",
    "vector_list = create_zeroVector()\n",
    "print(vector_list)"
   ]
  },
  {
   "cell_type": "markdown",
   "metadata": {},
   "source": [
    "### Pembuatan vektor"
   ]
  },
  {
   "cell_type": "code",
   "execution_count": 6,
   "metadata": {},
   "outputs": [
    {
     "name": "stdout",
     "output_type": "stream",
     "text": [
      "[[1, 1, 1, 1, 1, 1, 0, 0, 0, 0, 0, 0, 0, 0, 0, 0, 0, 0, 0, 0, 0, 0, 0, 0, 0, 0, 0], [1, 0, 0, 1, 1, 0, 1, 1, 1, 1, 1, 1, 1, 1, 0, 0, 0, 0, 0, 0, 0, 0, 0, 0, 0, 0, 0], [0, 0, 1, 1, 0, 0, 0, 0, 0, 0, 0, 0, 0, 0, 1, 1, 1, 1, 1, 2, 1, 1, 0, 0, 0, 0, 0], [1, 0, 0, 0, 0, 0, 1, 0, 0, 0, 0, 0, 0, 0, 1, 0, 1, 0, 0, 0, 0, 0, 2, 1, 1, 1, 1]]\n"
     ]
    }
   ],
   "source": [
    "# Membuat list vector\n",
    "def create_vectorList(text_list):\n",
    "    for i, text in enumerate(text_list):\n",
    "        for word in text.split():\n",
    "            for j, unique in enumerate(unique_words):\n",
    "                if word == unique:\n",
    "                    vector_list[i][j] += 1\n",
    "    return vector_list\n",
    "\n",
    "vector_list = create_vectorList(text_list)\n",
    "print(vector_list)"
   ]
  },
  {
   "cell_type": "code",
   "execution_count": 7,
   "metadata": {},
   "outputs": [
    {
     "data": {
      "text/html": [
       "<div>\n",
       "<style scoped>\n",
       "    .dataframe tbody tr th:only-of-type {\n",
       "        vertical-align: middle;\n",
       "    }\n",
       "\n",
       "    .dataframe tbody tr th {\n",
       "        vertical-align: top;\n",
       "    }\n",
       "\n",
       "    .dataframe thead th {\n",
       "        text-align: right;\n",
       "    }\n",
       "</style>\n",
       "<table border=\"1\" class=\"dataframe\">\n",
       "  <thead>\n",
       "    <tr style=\"text-align: right;\">\n",
       "      <th></th>\n",
       "      <th>ajar</th>\n",
       "      <th>efektif</th>\n",
       "      <th>kelas</th>\n",
       "      <th>pintar</th>\n",
       "      <th>semangat</th>\n",
       "      <th>gratis</th>\n",
       "      <th>pagi</th>\n",
       "      <th>tetap</th>\n",
       "      <th>aktivitas</th>\n",
       "      <th>rabu</th>\n",
       "      <th>...</th>\n",
       "      <th>bingung</th>\n",
       "      <th>tanya</th>\n",
       "      <th>akibat</th>\n",
       "      <th>covid</th>\n",
       "      <th>lama</th>\n",
       "      <th>jarak</th>\n",
       "      <th>jauh</th>\n",
       "      <th>penuh</th>\n",
       "      <th>drama</th>\n",
       "      <th>LABEL</th>\n",
       "    </tr>\n",
       "  </thead>\n",
       "  <tbody>\n",
       "    <tr>\n",
       "      <th>kalimat ke-1</th>\n",
       "      <td>1</td>\n",
       "      <td>1</td>\n",
       "      <td>1</td>\n",
       "      <td>1</td>\n",
       "      <td>1</td>\n",
       "      <td>1</td>\n",
       "      <td>0</td>\n",
       "      <td>0</td>\n",
       "      <td>0</td>\n",
       "      <td>0</td>\n",
       "      <td>...</td>\n",
       "      <td>0</td>\n",
       "      <td>0</td>\n",
       "      <td>0</td>\n",
       "      <td>0</td>\n",
       "      <td>0</td>\n",
       "      <td>0</td>\n",
       "      <td>0</td>\n",
       "      <td>0</td>\n",
       "      <td>0</td>\n",
       "      <td>positif</td>\n",
       "    </tr>\n",
       "    <tr>\n",
       "      <th>kalimat ke-2</th>\n",
       "      <td>1</td>\n",
       "      <td>0</td>\n",
       "      <td>0</td>\n",
       "      <td>1</td>\n",
       "      <td>1</td>\n",
       "      <td>0</td>\n",
       "      <td>1</td>\n",
       "      <td>1</td>\n",
       "      <td>1</td>\n",
       "      <td>1</td>\n",
       "      <td>...</td>\n",
       "      <td>0</td>\n",
       "      <td>0</td>\n",
       "      <td>0</td>\n",
       "      <td>0</td>\n",
       "      <td>0</td>\n",
       "      <td>0</td>\n",
       "      <td>0</td>\n",
       "      <td>0</td>\n",
       "      <td>0</td>\n",
       "      <td>positif</td>\n",
       "    </tr>\n",
       "    <tr>\n",
       "      <th>kalimat ke-3</th>\n",
       "      <td>0</td>\n",
       "      <td>0</td>\n",
       "      <td>1</td>\n",
       "      <td>1</td>\n",
       "      <td>0</td>\n",
       "      <td>0</td>\n",
       "      <td>0</td>\n",
       "      <td>0</td>\n",
       "      <td>0</td>\n",
       "      <td>0</td>\n",
       "      <td>...</td>\n",
       "      <td>1</td>\n",
       "      <td>2</td>\n",
       "      <td>1</td>\n",
       "      <td>1</td>\n",
       "      <td>0</td>\n",
       "      <td>0</td>\n",
       "      <td>0</td>\n",
       "      <td>0</td>\n",
       "      <td>0</td>\n",
       "      <td>negatif</td>\n",
       "    </tr>\n",
       "    <tr>\n",
       "      <th>kalimat ke-4</th>\n",
       "      <td>1</td>\n",
       "      <td>0</td>\n",
       "      <td>0</td>\n",
       "      <td>0</td>\n",
       "      <td>0</td>\n",
       "      <td>0</td>\n",
       "      <td>1</td>\n",
       "      <td>0</td>\n",
       "      <td>0</td>\n",
       "      <td>0</td>\n",
       "      <td>...</td>\n",
       "      <td>0</td>\n",
       "      <td>0</td>\n",
       "      <td>0</td>\n",
       "      <td>0</td>\n",
       "      <td>2</td>\n",
       "      <td>1</td>\n",
       "      <td>1</td>\n",
       "      <td>1</td>\n",
       "      <td>1</td>\n",
       "      <td>negatif</td>\n",
       "    </tr>\n",
       "  </tbody>\n",
       "</table>\n",
       "<p>4 rows × 28 columns</p>\n",
       "</div>"
      ],
      "text/plain": [
       "              ajar  efektif  kelas  pintar  semangat  gratis  pagi  tetap  \\\n",
       "kalimat ke-1     1        1      1       1         1       1     0      0   \n",
       "kalimat ke-2     1        0      0       1         1       0     1      1   \n",
       "kalimat ke-3     0        0      1       1         0       0     0      0   \n",
       "kalimat ke-4     1        0      0       0         0       0     1      0   \n",
       "\n",
       "              aktivitas  rabu  ...  bingung  tanya  akibat  covid  lama  \\\n",
       "kalimat ke-1          0     0  ...        0      0       0      0     0   \n",
       "kalimat ke-2          1     1  ...        0      0       0      0     0   \n",
       "kalimat ke-3          0     0  ...        1      2       1      1     0   \n",
       "kalimat ke-4          0     0  ...        0      0       0      0     2   \n",
       "\n",
       "              jarak  jauh  penuh  drama    LABEL  \n",
       "kalimat ke-1      0     0      0      0  positif  \n",
       "kalimat ke-2      0     0      0      0  positif  \n",
       "kalimat ke-3      0     0      0      0  negatif  \n",
       "kalimat ke-4      1     1      1      1  negatif  \n",
       "\n",
       "[4 rows x 28 columns]"
      ]
     },
     "execution_count": 7,
     "metadata": {},
     "output_type": "execute_result"
    }
   ],
   "source": [
    "data_frame = pandas.DataFrame(vector_list, columns=unique_words, index=['kalimat ke-1','kalimat ke-2','kalimat ke-3','kalimat ke-4'])\n",
    "data_frame['LABEL'] = kelas_teks\n",
    "\n",
    "data_frame"
   ]
  },
  {
   "cell_type": "markdown",
   "metadata": {},
   "source": [
    "#### Menyimpan vector_list, kelas_teks, unique_words ke dalam model (.json)\n",
    "\n",
    "## Modeling Selesai\n",
    "\n",
    "-----------------------------------------------------------------------------------------------------------------------------"
   ]
  },
  {
   "cell_type": "markdown",
   "metadata": {},
   "source": [
    "# Klasifikasi (K-Nearest Neighbors (KNN))"
   ]
  },
  {
   "cell_type": "code",
   "execution_count": 8,
   "metadata": {},
   "outputs": [
    {
     "name": "stdout",
     "output_type": "stream",
     "text": [
      "[[1, 1, 1, 1, 1, 1, 0, 0, 0, 0, 0, 0, 0, 0, 0, 0, 0, 0, 0, 0, 0, 0, 0, 0, 0, 0, 0], [1, 0, 0, 1, 1, 0, 1, 1, 1, 1, 1, 1, 1, 1, 0, 0, 0, 0, 0, 0, 0, 0, 0, 0, 0, 0, 0], [0, 0, 1, 1, 0, 0, 0, 0, 0, 0, 0, 0, 0, 0, 1, 1, 1, 1, 1, 2, 1, 1, 0, 0, 0, 0, 0], [1, 0, 0, 0, 0, 0, 1, 0, 0, 0, 0, 0, 0, 0, 1, 0, 1, 0, 0, 0, 0, 0, 2, 1, 1, 1, 1]]\n"
     ]
    }
   ],
   "source": [
    "# data vector_list adalah model latih\n",
    "data_latih = vector_list\n",
    "print(data_latih)"
   ]
  },
  {
   "cell_type": "code",
   "execution_count": 9,
   "metadata": {},
   "outputs": [],
   "source": [
    "text_list_uji = [\n",
    "    'semangat ikut kelas pintar ajar jarak jauh tengah pandemi',\n",
    "    'susah sulit ajar jarak jauh pandemi covid covid tetap semangat',\n",
    "]\n",
    "kelas_teks_uji = ['positif', 'negatif']"
   ]
  },
  {
   "cell_type": "markdown",
   "metadata": {},
   "source": [
    "### Pembuatan wadah vektor uji kosong uji"
   ]
  },
  {
   "cell_type": "code",
   "execution_count": 10,
   "metadata": {
    "scrolled": true
   },
   "outputs": [
    {
     "name": "stdout",
     "output_type": "stream",
     "text": [
      "[[0, 0, 0, 0, 0, 0, 0, 0, 0, 0, 0, 0, 0, 0, 0, 0, 0, 0, 0, 0, 0, 0, 0, 0, 0, 0, 0], [0, 0, 0, 0, 0, 0, 0, 0, 0, 0, 0, 0, 0, 0, 0, 0, 0, 0, 0, 0, 0, 0, 0, 0, 0, 0, 0]]\n"
     ]
    }
   ],
   "source": [
    "# membuat vektor 0 dengan panjang = len(unique_words) & lebar = len(text_list)\n",
    "def create_zeroVectorUji():\n",
    "    vector_list = [[0 for i in range(len(unique_words))] for j in range(len(text_list_uji))]\n",
    "    return vector_list\n",
    "\n",
    "vector_list_uji = create_zeroVectorUji()\n",
    "print(vector_list_uji)"
   ]
  },
  {
   "cell_type": "markdown",
   "metadata": {},
   "source": [
    "### Pembuatan vektor uji"
   ]
  },
  {
   "cell_type": "code",
   "execution_count": 11,
   "metadata": {},
   "outputs": [
    {
     "name": "stdout",
     "output_type": "stream",
     "text": [
      "[[1, 0, 1, 1, 1, 0, 0, 0, 0, 0, 0, 0, 0, 0, 0, 0, 0, 0, 0, 0, 0, 0, 0, 1, 1, 0, 0], [1, 0, 0, 0, 1, 0, 0, 1, 0, 0, 0, 0, 0, 0, 1, 1, 0, 0, 0, 0, 0, 2, 0, 1, 1, 0, 0]]\n"
     ]
    }
   ],
   "source": [
    "# Membuat list vector\n",
    "def create_vectorListUji(text_list):\n",
    "    for i, text in enumerate(text_list):\n",
    "        for word in text.split():\n",
    "            for j, unique in enumerate(unique_words):\n",
    "                if word == unique:\n",
    "                    vector_list_uji[i][j] += 1\n",
    "    return vector_list_uji\n",
    "\n",
    "vector_list_uji = create_vectorListUji(text_list_uji)\n",
    "print(vector_list_uji)"
   ]
  },
  {
   "cell_type": "code",
   "execution_count": 12,
   "metadata": {},
   "outputs": [
    {
     "name": "stdout",
     "output_type": "stream",
     "text": [
      "[1, 0, 0, 0, 1, 0, 0, 1, 0, 0, 0, 0, 0, 0, 1, 1, 0, 0, 0, 0, 0, 2, 0, 1, 1, 0, 0]\n"
     ]
    }
   ],
   "source": [
    "data_tes = vector_list_uji[1]\n",
    "\n",
    "print(data_tes)"
   ]
  },
  {
   "cell_type": "markdown",
   "metadata": {},
   "source": [
    "### Perhitungan jarak dengan euclidean distance = sqrt(sum((x - y)^2))"
   ]
  },
  {
   "cell_type": "code",
   "execution_count": 13,
   "metadata": {},
   "outputs": [
    {
     "name": "stdout",
     "output_type": "stream",
     "text": [
      "[[1, 1, 1, 1, 1, 1, 0, 0, 0, 0, 0, 0, 0, 0, 0, 0, 0, 0, 0, 0, 0, 0, 0, 0, 0, 0, 0], [1, 0, 0, 1, 1, 0, 1, 1, 1, 1, 1, 1, 1, 1, 0, 0, 0, 0, 0, 0, 0, 0, 0, 0, 0, 0, 0], [0, 0, 1, 1, 0, 0, 0, 0, 0, 0, 0, 0, 0, 0, 1, 1, 1, 1, 1, 2, 1, 1, 0, 0, 0, 0, 0], [1, 0, 0, 0, 0, 0, 1, 0, 0, 0, 0, 0, 0, 0, 1, 0, 1, 0, 0, 0, 0, 0, 2, 1, 1, 1, 1]] [1, 0, 0, 0, 1, 0, 0, 1, 0, 0, 0, 0, 0, 0, 1, 1, 0, 0, 0, 0, 0, 2, 0, 1, 1, 0, 0]\n"
     ]
    }
   ],
   "source": [
    "print(data_latih, data_tes)"
   ]
  },
  {
   "cell_type": "code",
   "execution_count": 14,
   "metadata": {},
   "outputs": [],
   "source": [
    "from math import sqrt"
   ]
  },
  {
   "cell_type": "code",
   "execution_count": 15,
   "metadata": {},
   "outputs": [
    {
     "data": {
      "text/plain": [
       "{0: 3.605551275463989, 1: 4.0, 2: 4.0, 3: 3.872983346207417}"
      ]
     },
     "execution_count": 15,
     "metadata": {},
     "output_type": "execute_result"
    }
   ],
   "source": [
    "# wadah untuk tetangga-tetangga\n",
    "neighbors = {}\n",
    "\n",
    "for i in range(len(data_latih)):\n",
    "    total = 0\n",
    "    for j in range(len(data_tes)):\n",
    "        total += pow((data_tes[j]-data_latih[i][j]), 2)\n",
    "    neighbors[i] = sqrt(total)\n",
    "\n",
    "neighbors"
   ]
  },
  {
   "cell_type": "code",
   "execution_count": 16,
   "metadata": {},
   "outputs": [],
   "source": [
    "import itertools"
   ]
  },
  {
   "cell_type": "markdown",
   "metadata": {},
   "source": [
    "### Pengambilan K data tetangga terdekat"
   ]
  },
  {
   "cell_type": "code",
   "execution_count": 17,
   "metadata": {},
   "outputs": [
    {
     "data": {
      "text/plain": [
       "{0: 3.605551275463989, 3: 3.872983346207417, 1: 4.0}"
      ]
     },
     "execution_count": 17,
     "metadata": {},
     "output_type": "execute_result"
    }
   ],
   "source": [
    "K = 3\n",
    "\n",
    "# mencari K tetangga terdekat\n",
    "def get_nearestNeighbors(neighbors):\n",
    "    neighbors_sortASC = dict(sorted(neighbors.items(), key=lambda item: item[1]))\n",
    "    nearest_neighbors = dict(itertools.islice(neighbors_sortASC.items(), K))\n",
    "    return nearest_neighbors\n",
    "\n",
    "nearest_neighbors = get_nearestNeighbors(neighbors)\n",
    "nearest_neighbors"
   ]
  },
  {
   "cell_type": "markdown",
   "metadata": {},
   "source": [
    "### Pencarian label dari K data tetangga terdekat"
   ]
  },
  {
   "cell_type": "code",
   "execution_count": 18,
   "metadata": {},
   "outputs": [
    {
     "data": {
      "text/plain": [
       "['positif', 'negatif', 'positif']"
      ]
     },
     "execution_count": 18,
     "metadata": {},
     "output_type": "execute_result"
    }
   ],
   "source": [
    "index_nearestNeighbors = list(nearest_neighbors)\n",
    "\n",
    "sentiment_nearestNeighbors = []\n",
    "for index in index_nearestNeighbors:\n",
    "    sentiment_nearestNeighbors.append(kelas_teks[index])\n",
    "    \n",
    "sentiment_nearestNeighbors"
   ]
  },
  {
   "cell_type": "markdown",
   "metadata": {},
   "source": [
    "### Probabilitas tiap sentimen"
   ]
  },
  {
   "cell_type": "code",
   "execution_count": 19,
   "metadata": {},
   "outputs": [
    {
     "data": {
      "text/plain": [
       "(0.6666666666666666, 0.3333333333333333)"
      ]
     },
     "execution_count": 19,
     "metadata": {},
     "output_type": "execute_result"
    }
   ],
   "source": [
    "count_positif = 0\n",
    "count_negatif = 0\n",
    "for sentiment in sentiment_nearestNeighbors:\n",
    "    if sentiment == 'positif':\n",
    "        count_positif += 1\n",
    "    else:\n",
    "        count_negatif +=1\n",
    "\n",
    "probabilitas_positif = count_positif / len(sentiment_nearestNeighbors)\n",
    "probabilitas_negatif = count_negatif / len(sentiment_nearestNeighbors)\n",
    "\n",
    "probabilitas_positif, probabilitas_negatif"
   ]
  },
  {
   "cell_type": "markdown",
   "metadata": {},
   "source": [
    "### Pemberian label data uji"
   ]
  },
  {
   "cell_type": "code",
   "execution_count": 20,
   "metadata": {},
   "outputs": [
    {
     "data": {
      "text/plain": [
       "'positif'"
      ]
     },
     "execution_count": 20,
     "metadata": {},
     "output_type": "execute_result"
    }
   ],
   "source": [
    "sentiment = ''\n",
    "if probabilitas_positif > probabilitas_negatif:\n",
    "    sentiment = 'positif'\n",
    "else:\n",
    "    sentiment = 'negatif'\n",
    "    \n",
    "sentiment"
   ]
  },
  {
   "cell_type": "code",
   "execution_count": 21,
   "metadata": {},
   "outputs": [],
   "source": [
    "text_list = [\n",
    "    'ajar efektif kelas pintar semangat gratis',                                      # kalimat 1\n",
    "    'pagi tetap semangat ajar aktivitas rabu pintar ayo simak jadwal acara',          # kalimat 2\n",
    "    'susah sulit kerja tugas bingung tanya tanya kelas pintar akibat covid',          # kalimat 3\n",
    "    'pagi susah kerja lama lama ajar jarak jauh penuh drama'                          # kalimat 4\n",
    "]\n",
    "kelas_teks = ['positif', 'positif', 'negatif' , 'negatif']"
   ]
  },
  {
   "cell_type": "code",
   "execution_count": 22,
   "metadata": {},
   "outputs": [
    {
     "data": {
      "text/html": [
       "<div>\n",
       "<style scoped>\n",
       "    .dataframe tbody tr th:only-of-type {\n",
       "        vertical-align: middle;\n",
       "    }\n",
       "\n",
       "    .dataframe tbody tr th {\n",
       "        vertical-align: top;\n",
       "    }\n",
       "\n",
       "    .dataframe thead th {\n",
       "        text-align: right;\n",
       "    }\n",
       "</style>\n",
       "<table border=\"1\" class=\"dataframe\">\n",
       "  <thead>\n",
       "    <tr style=\"text-align: right;\">\n",
       "      <th></th>\n",
       "      <th>dokumen</th>\n",
       "      <th>LABEL</th>\n",
       "    </tr>\n",
       "  </thead>\n",
       "  <tbody>\n",
       "    <tr>\n",
       "      <th>kalimat ke-1</th>\n",
       "      <td>ajar efektif kelas pintar semangat gratis</td>\n",
       "      <td>positif</td>\n",
       "    </tr>\n",
       "    <tr>\n",
       "      <th>kalimat ke-2</th>\n",
       "      <td>pagi tetap semangat ajar aktivitas rabu pintar...</td>\n",
       "      <td>positif</td>\n",
       "    </tr>\n",
       "    <tr>\n",
       "      <th>kalimat ke-3</th>\n",
       "      <td>susah sulit kerja tugas bingung tanya tanya ke...</td>\n",
       "      <td>negatif</td>\n",
       "    </tr>\n",
       "    <tr>\n",
       "      <th>kalimat ke-4</th>\n",
       "      <td>pagi susah kerja lama lama ajar jarak jauh pen...</td>\n",
       "      <td>negatif</td>\n",
       "    </tr>\n",
       "    <tr>\n",
       "      <th>kalimat ke-5</th>\n",
       "      <td>semangat ikut kelas pintar ajar jarak jauh ten...</td>\n",
       "      <td>[positif]</td>\n",
       "    </tr>\n",
       "  </tbody>\n",
       "</table>\n",
       "</div>"
      ],
      "text/plain": [
       "                                                        dokumen      LABEL\n",
       "kalimat ke-1          ajar efektif kelas pintar semangat gratis    positif\n",
       "kalimat ke-2  pagi tetap semangat ajar aktivitas rabu pintar...    positif\n",
       "kalimat ke-3  susah sulit kerja tugas bingung tanya tanya ke...    negatif\n",
       "kalimat ke-4  pagi susah kerja lama lama ajar jarak jauh pen...    negatif\n",
       "kalimat ke-5  semangat ikut kelas pintar ajar jarak jauh ten...  [positif]"
      ]
     },
     "execution_count": 22,
     "metadata": {},
     "output_type": "execute_result"
    }
   ],
   "source": [
    "text_data = text_list\n",
    "text_data.append(text_list_uji[0])\n",
    "kelas_data = kelas_teks\n",
    "kelas_data.append(kelas_teks_uji[0])\n",
    "\n",
    "data_frame = pandas.DataFrame(text_data, columns=['dokumen'], index=['kalimat ke-1','kalimat ke-2','kalimat ke-3','kalimat ke-4','kalimat ke-5'])\n",
    "data_frame['LABEL'] = kelas_data\n",
    "data_frame['LABEL'][4] = [sentiment]\n",
    "\n",
    "data_frame"
   ]
  },
  {
   "cell_type": "code",
   "execution_count": null,
   "metadata": {},
   "outputs": [],
   "source": []
  }
 ],
 "metadata": {
  "kernelspec": {
   "display_name": "Python 3",
   "language": "python",
   "name": "python3"
  },
  "language_info": {
   "codemirror_mode": {
    "name": "ipython",
    "version": 3
   },
   "file_extension": ".py",
   "mimetype": "text/x-python",
   "name": "python",
   "nbconvert_exporter": "python",
   "pygments_lexer": "ipython3",
   "version": "3.6.11"
  }
 },
 "nbformat": 4,
 "nbformat_minor": 2
}
